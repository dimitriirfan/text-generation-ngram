{
 "cells": [
  {
   "cell_type": "code",
   "execution_count": 3,
   "metadata": {},
   "outputs": [],
   "source": [
    "import string\n",
    "import random"
   ]
  },
  {
   "cell_type": "markdown",
   "metadata": {},
   "source": [
    "# N Gram Model\n",
    "\n",
    "Say we have two word \"This tea is good!\" and \"Good is this tea!\", we as human can conclude that the word \"This tea is good!\" is more likely to appear than the word \"Good is this tea!\" in other word the word \"This tea is good!\" have a higher probabillity to appear than its counterparts. Probability on how words formed plays an important part on how us humans learn a language, we human subconciously learn that one word has more probability to appear than the other as we grow. What if a machine can learn how to form word by knowing which word most likely to appear? and thats where Language Models come in.  \n",
    "\n",
    "Language Models are a model that assign probabilities to a sequence of words. One of the simplest language models are N gram model. N gram is a sequence of n word, for example a 2-gram is a sequence that consist of two words, \"Turn your\" and \"your homework\" is a 2-gram or we can call bigram. For more details on how N gram models work refer to this page [N Gram Model Stanford](https://web.stanford.edu/~jurafsky/slp3/3.pdf)\n",
    "\n",
    "We can train a N gram language model on a corpus and assign the probability of a word appearing given the previous word, that way we can generate a word by predicting the most likely word that can exist given a previous word. \n",
    "\n",
    "In this notebook I will train my N Gram model to generate a word that can talk like Shakespeare by training the model in shakespeare dataset."
   ]
  },
  {
   "cell_type": "code",
   "execution_count": 4,
   "metadata": {},
   "outputs": [],
   "source": [
    "class NGramModel : \n",
    "    def __init__(self, n, filepath, config) : \n",
    "        self.filepath = filepath\n",
    "        self.n = n\n",
    "        self.ngram_dict_count = {}\n",
    "        self.ngram_precedings_count = {}\n",
    "        self.ngram_prob = {}\n",
    "        self.config = config\n",
    "        self.sentences = self._load_sentences()\n",
    "        self._build_LM()\n",
    "        \n",
    "    def _get_ngram(self, sentence, n) : \n",
    "        \n",
    "        sentence = (n-1) * [\"<s>\"] + sentence.split()\n",
    "        ngrams = []\n",
    "        precedings = []\n",
    "        for i in range(n - 1, len(sentence)) :\n",
    "            prec = tuple(sentence[(i - n + 1):i])\n",
    "            ngram = tuple([prec, sentence[i]])\n",
    "            precedings.append(prec)\n",
    "            ngrams.append(ngram)\n",
    "\n",
    "        return ngrams, precedings\n",
    "        \n",
    "    def _preprocess(self, sentence, config) : \n",
    "        sent = sentence\n",
    "        if config['preprocessing'].get('remove_punct') == True : \n",
    "            sent = \" \".join([s.translate(str.maketrans('', '', string.punctuation)) for s in sent.split()])\n",
    "\n",
    "        if config['preprocessing'].get('to_lower') == True : \n",
    "            sent = sent.lower()\n",
    "\n",
    "        return sent\n",
    "        \n",
    "    def _load_sentences(self) :\n",
    "        with open(self.filepath) as f:\n",
    "            corpus = f.read().replace('\\n', ' ').strip()\n",
    "        \n",
    "        sentences = corpus.split(self.config['preprocessing']['split_by'])\n",
    "        for i, sentence in enumerate(sentences) : \n",
    "            sentences[i] = self._preprocess(sentence, config)\n",
    "        return sentences\n",
    "            \n",
    "    def _build_LM(self) : \n",
    "        ngram_dict_count = {}\n",
    "        ngram_precedings_count = {}\n",
    "        ngram_prob = {}\n",
    "\n",
    "        for sentence in self.sentences : \n",
    "\n",
    "            ngrams, precedings = self._get_ngram(sentence, n=self.n)\n",
    "\n",
    "            for i in range(len(ngrams)) : \n",
    "                ngram = ngrams[i]\n",
    "                prec = precedings[i]\n",
    "\n",
    "                if ngram in ngram_dict_count : \n",
    "                    ngram_dict_count[ngram] += 1 \n",
    "                else : \n",
    "                    ngram_dict_count[ngram] = 1 \n",
    "\n",
    "                if prec in ngram_precedings_count : \n",
    "                    ngram_precedings_count[prec] += 1\n",
    "                else : \n",
    "                    ngram_precedings_count[prec] = 1\n",
    "                \n",
    "        for ngram in ngram_dict_count.keys() : \n",
    "            prec = ngram[0]\n",
    "            word = ngram[1]\n",
    "\n",
    "            prob = ngram_dict_count[ngram] / ngram_precedings_count[ngram[0]]\n",
    "            if prec in ngram_prob : \n",
    "                ngram_prob[prec]['word'].append(word)\n",
    "                ngram_prob[prec]['prob'].append(prob)\n",
    "\n",
    "            else : \n",
    "                ngram_prob[prec] = { 'word': [word], 'prob' : [prob] }\n",
    "\n",
    "\n",
    "        self.ngram_dict_count = ngram_dict_count\n",
    "        self.ngram_precedings_count = ngram_precedings_count\n",
    "        self.ngram_prob = ngram_prob\n",
    "        \n",
    "    def generate(self, length=10) :\n",
    "        first_word_choice = self.ngram_prob[tuple((self.n-1) * [\"<s>\"])]\n",
    "        word_list = (self.n-1) * [\"<s>\"] + [random.choices(first_word_choice['word'], first_word_choice['prob'])[0]]\n",
    "        i = 1\n",
    "        while i < length + self.n - 1 :\n",
    "            try : \n",
    "                prec = word_list[i: self.n+i]\n",
    "                word_choice = self.ngram_prob[tuple(prec)]\n",
    "                generated_word = random.choices(word_choice['word'], word_choice['prob'])[0]\n",
    "                word_list.append(generated_word)\n",
    "                i += 1\n",
    "            except : \n",
    "                i += 1\n",
    "          \n",
    "            \n",
    "        return \" \".join(word_list[self.n-1:])"
   ]
  },
  {
   "cell_type": "markdown",
   "metadata": {},
   "source": [
    "# Generating Words"
   ]
  },
  {
   "cell_type": "code",
   "execution_count": 7,
   "metadata": {},
   "outputs": [
    {
     "data": {
      "text/plain": [
       "'ill canvass thee between a pair of shears between us'"
      ]
     },
     "execution_count": 7,
     "metadata": {},
     "output_type": "execute_result"
    }
   ],
   "source": [
    "config = {\n",
    "    'preprocessing': {\n",
    "        'split_by': '.',\n",
    "        'to_lower': True, \n",
    "        'remove_punct': True,\n",
    "    }\n",
    "}\n",
    "model = NGramModel(n=4, filepath='./corpus/shakespeare.txt', config=config)\n",
    "model.generate(length=20)"
   ]
  },
  {
   "cell_type": "markdown",
   "metadata": {},
   "source": [
    "# References\n",
    "* N-gram Language Models https://web.stanford.edu/~jurafsky/slp3/3.pdf"
   ]
  }
 ],
 "metadata": {
  "interpreter": {
   "hash": "5fd9cb4e19641be2a1b684d987c1c3d2914363c2a76390bdd5af55ecb3f4d6ac"
  },
  "kernelspec": {
   "display_name": "Python 3.8.2 32-bit",
   "name": "python3"
  },
  "language_info": {
   "codemirror_mode": {
    "name": "ipython",
    "version": 3
   },
   "file_extension": ".py",
   "mimetype": "text/x-python",
   "name": "python",
   "nbconvert_exporter": "python",
   "pygments_lexer": "ipython3",
   "version": "3.8.2"
  },
  "orig_nbformat": 4
 },
 "nbformat": 4,
 "nbformat_minor": 2
}
